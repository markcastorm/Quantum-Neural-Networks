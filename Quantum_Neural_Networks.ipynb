{
  "nbformat": 4,
  "nbformat_minor": 0,
  "metadata": {
    "colab": {
      "provenance": [],
      "authorship_tag": "ABX9TyNOBh2//srw2hvGHhtExBvR",
      "include_colab_link": true
    },
    "kernelspec": {
      "name": "python3",
      "display_name": "Python 3"
    },
    "language_info": {
      "name": "python"
    }
  },
  "cells": [
    {
      "cell_type": "markdown",
      "metadata": {
        "id": "view-in-github",
        "colab_type": "text"
      },
      "source": [
        "<a href=\"https://colab.research.google.com/github/markcastorm/Quantum-Neural-Networks/blob/main/Quantum_Neural_Networks.ipynb\" target=\"_parent\"><img src=\"https://colab.research.google.com/assets/colab-badge.svg\" alt=\"Open In Colab\"/></a>"
      ]
    },
    {
      "cell_type": "markdown",
      "source": [
        "### Quantum Neural Networks\n",
        "\n",
        " Quantum Neural Networks are quantum algorithms based on parameterized circuits that can be trained in a variational manner using classical optimizers , that contain feature map and an ansatz.\n",
        "\n",
        " QNN contains interface and two specific implementations:\n",
        "\n",
        "\n",
        "  NeuralNetwork: The interface for neural networks. This is an abstract class all QNNs inherit from.\n",
        "\n",
        "  EstimatorQNN: A network based on the evaluation of quantum mechanical observables.\n",
        "\n",
        "  SamplerQNN: A network based on the samples resulting from measuring a quantum circuit.\n"
      ],
      "metadata": {
        "id": "nONPL1d8dKPd"
      }
    },
    {
      "cell_type": "code",
      "source": [
        "!pip install qiskit"
      ],
      "metadata": {
        "colab": {
          "base_uri": "https://localhost:8080/"
        },
        "id": "OMv7WQO4X5Ix",
        "outputId": "a501f234-a7ae-4978-fef3-2c8976f33d95"
      },
      "execution_count": null,
      "outputs": [
        {
          "output_type": "stream",
          "name": "stdout",
          "text": [
            "Requirement already satisfied: qiskit in /usr/local/lib/python3.10/dist-packages (1.1.0)\n",
            "Requirement already satisfied: rustworkx>=0.14.0 in /usr/local/lib/python3.10/dist-packages (from qiskit) (0.14.2)\n",
            "Requirement already satisfied: numpy<3,>=1.17 in /usr/local/lib/python3.10/dist-packages (from qiskit) (1.25.2)\n",
            "Requirement already satisfied: scipy>=1.5 in /usr/local/lib/python3.10/dist-packages (from qiskit) (1.11.4)\n",
            "Requirement already satisfied: sympy>=1.3 in /usr/local/lib/python3.10/dist-packages (from qiskit) (1.12.1)\n",
            "Requirement already satisfied: dill>=0.3 in /usr/local/lib/python3.10/dist-packages (from qiskit) (0.3.8)\n",
            "Requirement already satisfied: python-dateutil>=2.8.0 in /usr/local/lib/python3.10/dist-packages (from qiskit) (2.8.2)\n",
            "Requirement already satisfied: stevedore>=3.0.0 in /usr/local/lib/python3.10/dist-packages (from qiskit) (5.2.0)\n",
            "Requirement already satisfied: typing-extensions in /usr/local/lib/python3.10/dist-packages (from qiskit) (4.12.2)\n",
            "Requirement already satisfied: symengine>=0.11 in /usr/local/lib/python3.10/dist-packages (from qiskit) (0.11.0)\n",
            "Requirement already satisfied: six>=1.5 in /usr/local/lib/python3.10/dist-packages (from python-dateutil>=2.8.0->qiskit) (1.16.0)\n",
            "Requirement already satisfied: pbr!=2.1.0,>=2.0.0 in /usr/local/lib/python3.10/dist-packages (from stevedore>=3.0.0->qiskit) (6.0.0)\n",
            "Requirement already satisfied: mpmath<1.4.0,>=1.1.0 in /usr/local/lib/python3.10/dist-packages (from sympy>=1.3->qiskit) (1.3.0)\n"
          ]
        }
      ]
    },
    {
      "cell_type": "code",
      "source": [
        "!pip install qiskit_algorithms\n",
        "!pip install pylatexenc"
      ],
      "metadata": {
        "colab": {
          "base_uri": "https://localhost:8080/"
        },
        "id": "3mP0kxjQcr8b",
        "outputId": "f7495f01-b5f0-4f00-cda4-f2a37782fbf7"
      },
      "execution_count": null,
      "outputs": [
        {
          "output_type": "stream",
          "name": "stdout",
          "text": [
            "Requirement already satisfied: qiskit_algorithms in /usr/local/lib/python3.10/dist-packages (0.3.0)\n",
            "Requirement already satisfied: qiskit>=0.44 in /usr/local/lib/python3.10/dist-packages (from qiskit_algorithms) (1.1.0)\n",
            "Requirement already satisfied: scipy>=1.4 in /usr/local/lib/python3.10/dist-packages (from qiskit_algorithms) (1.11.4)\n",
            "Requirement already satisfied: numpy>=1.17 in /usr/local/lib/python3.10/dist-packages (from qiskit_algorithms) (1.25.2)\n",
            "Requirement already satisfied: rustworkx>=0.14.0 in /usr/local/lib/python3.10/dist-packages (from qiskit>=0.44->qiskit_algorithms) (0.14.2)\n",
            "Requirement already satisfied: sympy>=1.3 in /usr/local/lib/python3.10/dist-packages (from qiskit>=0.44->qiskit_algorithms) (1.12.1)\n",
            "Requirement already satisfied: dill>=0.3 in /usr/local/lib/python3.10/dist-packages (from qiskit>=0.44->qiskit_algorithms) (0.3.8)\n",
            "Requirement already satisfied: python-dateutil>=2.8.0 in /usr/local/lib/python3.10/dist-packages (from qiskit>=0.44->qiskit_algorithms) (2.8.2)\n",
            "Requirement already satisfied: stevedore>=3.0.0 in /usr/local/lib/python3.10/dist-packages (from qiskit>=0.44->qiskit_algorithms) (5.2.0)\n",
            "Requirement already satisfied: typing-extensions in /usr/local/lib/python3.10/dist-packages (from qiskit>=0.44->qiskit_algorithms) (4.12.2)\n",
            "Requirement already satisfied: symengine>=0.11 in /usr/local/lib/python3.10/dist-packages (from qiskit>=0.44->qiskit_algorithms) (0.11.0)\n",
            "Requirement already satisfied: six>=1.5 in /usr/local/lib/python3.10/dist-packages (from python-dateutil>=2.8.0->qiskit>=0.44->qiskit_algorithms) (1.16.0)\n",
            "Requirement already satisfied: pbr!=2.1.0,>=2.0.0 in /usr/local/lib/python3.10/dist-packages (from stevedore>=3.0.0->qiskit>=0.44->qiskit_algorithms) (6.0.0)\n",
            "Requirement already satisfied: mpmath<1.4.0,>=1.1.0 in /usr/local/lib/python3.10/dist-packages (from sympy>=1.3->qiskit>=0.44->qiskit_algorithms) (1.3.0)\n",
            "Requirement already satisfied: pylatexenc in /usr/local/lib/python3.10/dist-packages (2.10)\n"
          ]
        }
      ]
    },
    {
      "cell_type": "code",
      "execution_count": null,
      "metadata": {
        "id": "WB67Xydkb7Bn"
      },
      "outputs": [],
      "source": [
        "from qiskit_algorithms.utils import algorithm_globals\n",
        "algorithm_globals.random_seed =42"
      ]
    },
    {
      "cell_type": "markdown",
      "source": [
        "### Lets instatiate QNNs\n",
        "\n",
        "EstimatorQNN\n",
        "\n",
        "EstimatorQNN  takes in a parameterized quantum circuit as the input  together as an optional mechanical observable and outputsexpectation value computations for the forward pass,\n",
        "\n",
        "Here we our quantum circuit has 2 parameters first for representing the QNN input and the other to represents the trainable weights"
      ],
      "metadata": {
        "id": "5t8UvZyLosg3"
      }
    },
    {
      "cell_type": "code",
      "source": [
        "from qiskit.circuit import Parameter\n",
        "from qiskit import QuantumCircuit"
      ],
      "metadata": {
        "id": "iP1g_DA3osBR"
      },
      "execution_count": null,
      "outputs": []
    },
    {
      "cell_type": "code",
      "source": [
        "params1 = [Parameter(\"input\"), Parameter(\"weight1\")]\n",
        "q1 = QuantumCircuit(1)\n",
        "q1.h(0)\n",
        "q1.ry(params1[0], 0)\n",
        "q1.rx(params1[1], 0)\n",
        "q1.draw(output=\"mpl\", style=\"clifford\")"
      ],
      "metadata": {
        "id": "Fc_BuxYpoj-A",
        "colab": {
          "base_uri": "https://localhost:8080/",
          "height": 127
        },
        "outputId": "24dbd694-1dd2-4785-a735-4fb26b9b8806"
      },
      "execution_count": null,
      "outputs": [
        {
          "output_type": "execute_result",
          "data": {
            "text/plain": [
              "<Figure size 352.675x117.056 with 1 Axes>"
            ],
            "image/png": "[encoded data removed]"
          },
          "metadata": {},
          "execution_count": 31
        }
      ]
    },
    {
      "cell_type": "markdown",
      "source": [
        "Now lets use the Y^n Observable"
      ],
      "metadata": {
        "id": "S4jKEf2P0D_4"
      }
    },
    {
      "cell_type": "code",
      "source": [
        "from qiskit.quantum_info import SparsePauliOp\n",
        "obser1 = SparsePauliOp.from_list([(\"Y\" * q1.num_qubits, 1)])"
      ],
      "metadata": {
        "id": "I0wgl4dx0VXl"
      },
      "execution_count": null,
      "outputs": []
    },
    {
      "cell_type": "markdown",
      "source": [
        "We've defined the quantum circuit and the observable,thw EstimatorQNN constructor gets the keyword arguments (estimator,input_params, weight_params)"
      ],
      "metadata": {
        "id": "hBBAr69VhypE"
      }
    },
    {
      "cell_type": "markdown",
      "source": [],
      "metadata": {
        "id": "kcNs_xHqqRDk"
      }
    },
    {
      "cell_type": "code",
      "source": [
        "!pip install qiskit-machine-learning"
      ],
      "metadata": {
        "colab": {
          "base_uri": "https://localhost:8080/"
        },
        "id": "neuU3ZgWMrP7",
        "outputId": "9435932f-3fd4-40c9-c5ec-f046bf43043f"
      },
      "execution_count": null,
      "outputs": [
        {
          "output_type": "stream",
          "name": "stdout",
          "text": [
            "Requirement already satisfied: qiskit-machine-learning in /usr/local/lib/python3.10/dist-packages (0.7.2)\n",
            "Requirement already satisfied: qiskit>=0.44 in /usr/local/lib/python3.10/dist-packages (from qiskit-machine-learning) (1.1.0)\n",
            "Requirement already satisfied: qiskit-algorithms>=0.2.0 in /usr/local/lib/python3.10/dist-packages (from qiskit-machine-learning) (0.3.0)\n",
            "Requirement already satisfied: scipy>=1.4 in /usr/local/lib/python3.10/dist-packages (from qiskit-machine-learning) (1.11.4)\n",
            "Requirement already satisfied: numpy>=1.17 in /usr/local/lib/python3.10/dist-packages (from qiskit-machine-learning) (1.25.2)\n",
            "Requirement already satisfied: psutil>=5 in /usr/local/lib/python3.10/dist-packages (from qiskit-machine-learning) (5.9.5)\n",
            "Requirement already satisfied: scikit-learn>=1.2.0 in /usr/local/lib/python3.10/dist-packages (from qiskit-machine-learning) (1.2.2)\n",
            "Requirement already satisfied: fastdtw in /usr/local/lib/python3.10/dist-packages (from qiskit-machine-learning) (0.3.4)\n",
            "Requirement already satisfied: setuptools>=40.1.0 in /usr/local/lib/python3.10/dist-packages (from qiskit-machine-learning) (67.7.2)\n",
            "Requirement already satisfied: dill>=0.3.4 in /usr/local/lib/python3.10/dist-packages (from qiskit-machine-learning) (0.3.8)\n",
            "Requirement already satisfied: rustworkx>=0.14.0 in /usr/local/lib/python3.10/dist-packages (from qiskit>=0.44->qiskit-machine-learning) (0.14.2)\n",
            "Requirement already satisfied: sympy>=1.3 in /usr/local/lib/python3.10/dist-packages (from qiskit>=0.44->qiskit-machine-learning) (1.12.1)\n",
            "Requirement already satisfied: python-dateutil>=2.8.0 in /usr/local/lib/python3.10/dist-packages (from qiskit>=0.44->qiskit-machine-learning) (2.8.2)\n",
            "Requirement already satisfied: stevedore>=3.0.0 in /usr/local/lib/python3.10/dist-packages (from qiskit>=0.44->qiskit-machine-learning) (5.2.0)\n",
            "Requirement already satisfied: typing-extensions in /usr/local/lib/python3.10/dist-packages (from qiskit>=0.44->qiskit-machine-learning) (4.12.2)\n",
            "Requirement already satisfied: symengine>=0.11 in /usr/local/lib/python3.10/dist-packages (from qiskit>=0.44->qiskit-machine-learning) (0.11.0)\n",
            "Requirement already satisfied: joblib>=1.1.1 in /usr/local/lib/python3.10/dist-packages (from scikit-learn>=1.2.0->qiskit-machine-learning) (1.4.2)\n",
            "Requirement already satisfied: threadpoolctl>=2.0.0 in /usr/local/lib/python3.10/dist-packages (from scikit-learn>=1.2.0->qiskit-machine-learning) (3.5.0)\n",
            "Requirement already satisfied: six>=1.5 in /usr/local/lib/python3.10/dist-packages (from python-dateutil>=2.8.0->qiskit>=0.44->qiskit-machine-learning) (1.16.0)\n",
            "Requirement already satisfied: pbr!=2.1.0,>=2.0.0 in /usr/local/lib/python3.10/dist-packages (from stevedore>=3.0.0->qiskit>=0.44->qiskit-machine-learning) (6.0.0)\n",
            "Requirement already satisfied: mpmath<1.4.0,>=1.1.0 in /usr/local/lib/python3.10/dist-packages (from sympy>=1.3->qiskit>=0.44->qiskit-machine-learning) (1.3.0)\n"
          ]
        }
      ]
    },
    {
      "cell_type": "code",
      "source": [
        "from qiskit_machine_learning.neural_networks import EstimatorQNN\n",
        "\n",
        "estimator_qnn = EstimatorQNN(\n",
        "    circuit=q1, observables=obser1, input_params=[params1[0]], weight_params=[params1[1]]\n",
        ")\n",
        "estimator_qnn"
      ],
      "metadata": {
        "id": "Y0Tb-rgbnqNJ",
        "colab": {
          "base_uri": "https://localhost:8080/"
        },
        "outputId": "803d0d4c-cae9-4806-9543-41509a2a101b"
      },
      "execution_count": null,
      "outputs": [
        {
          "output_type": "execute_result",
          "data": {
            "text/plain": [
              "<qiskit_machine_learning.neural_networks.estimator_qnn.EstimatorQNN at 0x7e9ba6a52890>"
            ]
          },
          "metadata": {},
          "execution_count": 34
        }
      ]
    },
    {
      "cell_type": "markdown",
      "source": [
        "## SamplerQNN\n",
        "Its instantiated simila to EstimatorQNN ,but it doesnt require  custom varible since it directly consumes samples from measuring the qubits.\n",
        "\n",
        "\n",
        "Lets create a quantum circuit for  SamplerQNN.Which will have two input parameters and four trainble weights that prametrize a two-local circuit."
      ],
      "metadata": {
        "id": "Yh3b_aPSJ4to"
      }
    },
    {
      "cell_type": "code",
      "source": [
        "from qiskit.circuit import ParameterVector\n",
        "\n",
        "inputs2 = ParameterVector(\"input\", 2)\n",
        "weights2 = ParameterVector(\"weight\", 4)\n",
        "print(f\"input parameters: {[str(item) for item in inputs2.params]}\")\n",
        "print(f\"weight parameters: {[str(item) for item in weights2.params]}\")\n",
        "\n",
        "q2 = QuantumCircuit(2)\n",
        "q2.ry(inputs2[0], 0)\n",
        "q2.ry(inputs2[1], 1)\n",
        "q2.cx(0, 1)\n",
        "\n",
        "q2.ry(weights2[0], 0)\n",
        "q2.ry(weights2[1], 1)\n",
        "q2.cx(0, 1)\n",
        "\n",
        "q2.ry(weights2[2], 0)\n",
        "q2.ry(weights2[3], 1)\n",
        "\n",
        "q2.draw(\"mpl\", style=\"clifford\")"
      ],
      "metadata": {
        "id": "8feyxmscL8j-",
        "colab": {
          "base_uri": "https://localhost:8080/",
          "height": 226
        },
        "outputId": "a3f61ce7-0bee-4d6c-ec44-17127d7a06b0"
      },
      "execution_count": null,
      "outputs": [
        {
          "output_type": "stream",
          "name": "stdout",
          "text": [
            "input parameters: ['input[0]', 'input[1]']\n",
            "weight parameters: ['weight[0]', 'weight[1]', 'weight[2]', 'weight[3]']\n"
          ]
        },
        {
          "output_type": "execute_result",
          "data": {
            "text/plain": [
              "<Figure size 538.128x200.667 with 1 Axes>"
            ],
            "image/png": "[encoded data removed]"
          },
          "metadata": {},
          "execution_count": 35
        }
      ]
    },
    {
      "cell_type": "markdown",
      "source": [
        "Now we have to specify the inputs and weights when instantiating the samplerQNN and we will be using the default sampler instance."
      ],
      "metadata": {
        "id": "8qbZVTTmLa6J"
      }
    },
    {
      "cell_type": "code",
      "source": [
        "from qiskit_machine_learning.neural_networks import SamplerQNN\n",
        "\n",
        "sampler_qnn = SamplerQNN( circuit=q2, input_params=inputs2, weight_params=weights2)\n",
        "sampler_qnn"
      ],
      "metadata": {
        "colab": {
          "base_uri": "https://localhost:8080/"
        },
        "id": "_aUCe5ovLaf7",
        "outputId": "4a99259f-da95-4859-addb-f63f8422e37d"
      },
      "execution_count": null,
      "outputs": [
        {
          "output_type": "execute_result",
          "data": {
            "text/plain": [
              "<qiskit_machine_learning.neural_networks.sampler_qnn.SamplerQNN at 0x7e9ba6911510>"
            ]
          },
          "metadata": {},
          "execution_count": 36
        }
      ]
    },
    {
      "cell_type": "markdown",
      "source": [
        "## Running a Forward Pass\n",
        "\n",
        "Lets specify random sets of input and weights of the right dimension"
      ],
      "metadata": {
        "id": "BU1CyyJRNuYc"
      }
    },
    {
      "cell_type": "code",
      "source": [
        "estimator_qnn_input = algorithm_globals.random.random(estimator_qnn.num_inputs)\n",
        "estimator_qnn_weights = algorithm_globals.random.random(estimator_qnn.num_weights)\n",
        "\n",
        "\n",
        "print(\n",
        "    f\"Number of input features for EstimatorQNN: {estimator_qnn.num_inputs} \\nInput: {estimator_qnn_input}\"\n",
        ")\n",
        "print(\n",
        "    f\"Number of trainable weights for EstimatorQNN: {estimator_qnn.num_weights} \\nWeights: {estimator_qnn_weights}\"\n",
        ")"
      ],
      "metadata": {
        "id": "SsKWp0FakIN4",
        "colab": {
          "base_uri": "https://localhost:8080/"
        },
        "outputId": "ef4a0318-c549-48ca-d265-bab266aec276"
      },
      "execution_count": null,
      "outputs": [
        {
          "output_type": "stream",
          "name": "stdout",
          "text": [
            "Number of input features for EstimatorQNN: 1 \n",
            "Input: [0.77395605]\n",
            "Number of trainable weights for EstimatorQNN: 1 \n",
            "Weights: [0.43887844]\n"
          ]
        }
      ]
    },
    {
      "cell_type": "markdown",
      "source": [
        "Lets do it with samplerQNN"
      ],
      "metadata": {
        "id": "_xhwDM7vlRI-"
      }
    },
    {
      "cell_type": "code",
      "source": [
        "\n",
        "sampler_qnn_input = algorithm_globals.random.random(sampler_qnn.num_inputs)\n",
        "sampler_qnn_weights = algorithm_globals.random.random(sampler_qnn.num_weights)\n",
        "print(\n",
        "    f\"Number of input features for SamplerQNN: {sampler_qnn.num_inputs} \\nInput: {sampler_qnn_input}\"\n",
        ")\n",
        "print(\n",
        "    f\"Number of trainable weights for SamplerQNN: {sampler_qnn.num_weights} \\nWeights: {sampler_qnn_weights}\"\n",
        ")\n",
        "\n"
      ],
      "metadata": {
        "id": "ZOwlmJh-lZxi",
        "colab": {
          "base_uri": "https://localhost:8080/"
        },
        "outputId": "a54f1509-54f7-4383-9171-113fb222a068"
      },
      "execution_count": null,
      "outputs": [
        {
          "output_type": "stream",
          "name": "stdout",
          "text": [
            "Number of input features for SamplerQNN: 2 \n",
            "Input: [0.85859792 0.69736803]\n",
            "Number of trainable weights for SamplerQNN: 4 \n",
            "Weights: [0.09417735 0.97562235 0.7611397  0.78606431]\n"
          ]
        }
      ]
    },
    {
      "cell_type": "markdown",
      "source": [
        "Now that we have inputs and weights ,lets have a look at the results for the batched and non-batched passes"
      ],
      "metadata": {
        "id": "BmKtsVF3mUeE"
      }
    },
    {
      "cell_type": "markdown",
      "source": [
        "### Non-Batched Forward Pass"
      ],
      "metadata": {
        "id": "qvM7pOV6mpNM"
      }
    },
    {
      "cell_type": "markdown",
      "source": [
        "for the estimatorQNN we get the expected output shape of the forwrd pss is (1, num_qubits * num_observables)\n",
        "\n",
        "1 = number of samples"
      ],
      "metadata": {
        "id": "Ah2ZRYcvncIL"
      }
    },
    {
      "cell_type": "code",
      "source": [
        "estimator_qnn_forward = estimator_qnn.forward(estimator_qnn_input, estimator_qnn_weights)\n",
        "\n",
        "print(\n",
        "    f\"Forward pass result for EstimatorQNN: {estimator_qnn_forward}. \\nShape: {estimator_qnn_forward.shape}\"\n",
        ")"
      ],
      "metadata": {
        "id": "KIc_ZZwcmoeE",
        "colab": {
          "base_uri": "https://localhost:8080/"
        },
        "outputId": "37b6963b-d906-4e72-e47a-a52ddefa2e2d"
      },
      "execution_count": null,
      "outputs": [
        {
          "output_type": "stream",
          "name": "stdout",
          "text": [
            "Forward pass result for EstimatorQNN: [[0.2970094]]. \n",
            "Shape: (1, 1)\n"
          ]
        }
      ]
    },
    {
      "cell_type": "markdown",
      "source": [
        "Now for the SamplerQNN that doesnt have a custom interpret function the expected output shape for the forward pass is (1, 2**num_qubits)"
      ],
      "metadata": {
        "id": "smX686PKFUpX"
      }
    },
    {
      "cell_type": "code",
      "source": [
        "sampler_qnn_forward = sampler_qnn.forward(sampler_qnn_input, sampler_qnn_weights)\n",
        "print(f\"SamplerQNN Forward pass results output: {sampler_qnn_forward}. \\n Shape: {sampler_qnn_forward.shape}\")"
      ],
      "metadata": {
        "id": "AFzZNl72mmWk",
        "colab": {
          "base_uri": "https://localhost:8080/"
        },
        "outputId": "28384ffb-72b5-4bb7-eafb-b06f84323dbf"
      },
      "execution_count": null,
      "outputs": [
        {
          "output_type": "stream",
          "name": "stdout",
          "text": [
            "SamplerQNN Forward pass results output: [[0.01826527 0.25735654 0.5267981  0.19758009]]. \n",
            " Shape: (1, 4)\n"
          ]
        }
      ]
    },
    {
      "cell_type": "markdown",
      "source": [
        "## Batched Forward Pass\n",
        "\n",
        "Fore the EstimatorQNN we get the expected output shape of the forward pass to be (batch_size, num_qubits * num_observables):"
      ],
      "metadata": {
        "id": "Jk3_dwX-GImj"
      }
    },
    {
      "cell_type": "code",
      "source": [
        "estimator_qnn_forward_batched = estimator_qnn.forward(\n",
        "    [estimator_qnn_input, estimator_qnn_input], estimator_qnn_weights\n",
        ")\n",
        "print(f\"EstimatorQNN Forward pass results output: {estimator_qnn_forward_batched}. \\n Shape: {estimator_qnn_forward_batched.shape}\")\n"
      ],
      "metadata": {
        "colab": {
          "base_uri": "https://localhost:8080/"
        },
        "id": "vDPnxft_Gqec",
        "outputId": "5c0d5c9c-7773-4aaa-e1a0-d74b4b774bec"
      },
      "execution_count": null,
      "outputs": [
        {
          "output_type": "stream",
          "name": "stdout",
          "text": [
            "EstimatorQNN Forward pass results output: [[0.2970094]\n",
            " [0.2970094]]. \n",
            " Shape: (2, 1)\n"
          ]
        }
      ]
    },
    {
      "cell_type": "markdown",
      "source": [
        "For the SamplerQNN  given it doesnt have a custom interpret ,the expectes output shapesfor the forward ass is (batch_size, 2**num_qubits).But if it had a custom interpretor then the shape would be (batch_size , output_shape)"
      ],
      "metadata": {
        "id": "DXAHSOoJHK7n"
      }
    },
    {
      "cell_type": "code",
      "source": [
        "sampler_qnn_forward_batched = sampler_qnn.forward(\n",
        "    [sampler_qnn_input, sampler_qnn_input], sampler_qnn_weights\n",
        ")\n",
        "\n",
        "print (\n",
        "    f\"Forward pass result for SamplerQNN: {sampler_qnn_forward_batched}. \\nShape: {sampler_qnn_forward_batched.shape}\"\n",
        ")"
      ],
      "metadata": {
        "id": "SeBahrCccqG3",
        "colab": {
          "base_uri": "https://localhost:8080/"
        },
        "outputId": "17a111ff-587b-4e61-bf22-bf90929b4d4d"
      },
      "execution_count": null,
      "outputs": [
        {
          "output_type": "stream",
          "name": "stdout",
          "text": [
            "Forward pass result for SamplerQNN: [[0.01826527 0.25735654 0.5267981  0.19758009]\n",
            " [0.01826527 0.25735654 0.5267981  0.19758009]]. \n",
            "Shape: (2, 4)\n"
          ]
        }
      ]
    },
    {
      "cell_type": "markdown",
      "source": [
        "## Backward Pass"
      ],
      "metadata": {
        "id": "9oTll7YeoJWS"
      }
    },
    {
      "cell_type": "markdown",
      "source": [
        "Lets Simulate Backward pass without Input Gradients for\n",
        "\n",
        "EstimatorQNN"
      ],
      "metadata": {
        "id": "bGpC4YyKodUd"
      }
    },
    {
      "cell_type": "code",
      "source": [
        "estimator_qnn_input_grad, estimator_qnn_weight_grad = estimator_qnn.backward(\n",
        "    estimator_qnn_input, estimator_qnn_weights\n",
        "\n",
        ")\n",
        "print(f\"Input Gradients: {estimator_qnn_input_grad}. \\nShape: {estimator_qnn_input_grad}\")\n",
        "print(f\"Weights Gradients: {estimator_qnn_weight_grad}. \\nShape: {estimator_qnn_weight_grad.shape}\")"
      ],
      "metadata": {
        "id": "oo64d9m0oXst",
        "colab": {
          "base_uri": "https://localhost:8080/"
        },
        "outputId": "b65d36e9-f62b-4fdd-815c-c3b6fefb6f3a"
      },
      "execution_count": null,
      "outputs": [
        {
          "output_type": "stream",
          "name": "stdout",
          "text": [
            "Input Gradients: None. \n",
            "Shape: None\n",
            "Weights Gradients: [[[0.63272767]]]. \n",
            "Shape: (1, 1, 1)\n"
          ]
        }
      ]
    },
    {
      "cell_type": "markdown",
      "source": [
        "Lets Simulate Backward pass without Input Gradients for\n",
        "\n",
        "SamplerQNN that doesnt have a custom interpret function thus the expected output shape of the forward pass is (batch_size,2**num_qubits, num_weights)"
      ],
      "metadata": {
        "id": "RVzwiRUEqxpd"
      }
    },
    {
      "cell_type": "code",
      "source": [
        "sampler_qnn_input_gradients, sampler_qnn_weight_gradients = sampler_qnn.backward(\n",
        "    sampler_qnn_input, sampler_qnn_weights\n",
        ")\n",
        "print(f\"Input Gradients: {sampler_qnn_input_gradients}. \\nShape: {sampler_qnn_input_gradients}\")\n",
        "print(f\"Weights Gradients: {sampler_qnn_weight_gradients}. \\nShape: {sampler_qnn_weight_gradients.shape}\")"
      ],
      "metadata": {
        "id": "ZMQ684IpoV9U",
        "colab": {
          "base_uri": "https://localhost:8080/"
        },
        "outputId": "6aa8e738-cbfa-41f1-8245-59f1bd2da952"
      },
      "execution_count": null,
      "outputs": [
        {
          "output_type": "stream",
          "name": "stdout",
          "text": [
            "Input Gradients: None. \n",
            "Shape: None\n",
            "Weights Gradients: [[[ 0.00606238 -0.1124595  -0.06856156 -0.09809236]\n",
            "  [ 0.21167414 -0.09069775  0.06856156 -0.22549618]\n",
            "  [-0.48846674  0.32499215 -0.32262178  0.09809236]\n",
            "  [ 0.27073021 -0.12183491  0.32262178  0.22549618]]]. \n",
            "Shape: (1, 4, 4)\n"
          ]
        }
      ]
    },
    {
      "cell_type": "markdown",
      "source": [
        "# Now lets test the Backward Pass with input Gradients\n",
        "\n",
        "First we enable the input_gradients"
      ],
      "metadata": {
        "id": "ikbYX033OWye"
      }
    },
    {
      "cell_type": "code",
      "source": [
        "estimator_qnn.input_gradients = True\n",
        "sampler_qnn.input_gradients = True"
      ],
      "metadata": {
        "id": "W4oP_5M8Otgb"
      },
      "execution_count": null,
      "outputs": []
    },
    {
      "cell_type": "markdown",
      "source": [
        "For the EstimatorQNN with input gradients, expectated output shape  (batch_size, num_qubits * num_observables,num_inputs)"
      ],
      "metadata": {
        "id": "ijaGWpdlO2HV"
      }
    },
    {
      "cell_type": "code",
      "source": [
        "estimator_qnn_input_grad, estimator_qnn_weight_grad = estimator_qnn.backward(\n",
        "    estimator_qnn_input, estimator_qnn_weights\n",
        ")\n",
        "print(f\"Input Gradients: {estimator_qnn_input_grad}. \\nShape: {estimator_qnn_input_grad.shape}\")\n",
        "print(f\"Weights Gradients: {estimator_qnn_weight_grad}. \\nShape: {estimator_qnn_weight_grad.shape}\")"
      ],
      "metadata": {
        "colab": {
          "base_uri": "https://localhost:8080/"
        },
        "id": "_6WMBg_LO1st",
        "outputId": "e9591390-7da3-4ee9-cedb-7893dbe8065e"
      },
      "execution_count": null,
      "outputs": [
        {
          "output_type": "stream",
          "name": "stdout",
          "text": [
            "Input Gradients: [[[0.3038852]]]. \n",
            "Shape: (1, 1, 1)\n",
            "Weights Gradients: [[[0.63272767]]]. \n",
            "Shape: (1, 1, 1)\n"
          ]
        }
      ]
    },
    {
      "cell_type": "markdown",
      "source": [
        "For the SamplerQNN with a custom interpret function the output will be (batch_size, output_shape, num_inputs)"
      ],
      "metadata": {
        "id": "dEhYuvLdST3N"
      }
    },
    {
      "cell_type": "code",
      "source": [
        "sampler_qnn_input_grad, sampler_qnn_weight_grad = sampler_qnn.backward(\n",
        "    sampler_qnn_input, sampler_qnn_weights\n",
        ")\n",
        "print(f\"Input gradients for SamplerQNN: {sampler_qnn_input_grad}. \\nShape: {sampler_qnn_input_grad.shape}\")\n",
        "print(f\"Weights gradients for SamplerQNN: {sampler_qnn_weight_grad}. \\nShape: {sampler_qnn_weight_grad.shape}\")\n",
        "\n"
      ],
      "metadata": {
        "colab": {
          "base_uri": "https://localhost:8080/"
        },
        "id": "v4h4RE0yTB-1",
        "outputId": "07622929-0d6b-442c-a41b-8dceb1533961"
      },
      "execution_count": null,
      "outputs": [
        {
          "output_type": "stream",
          "name": "stdout",
          "text": [
            "Input gradients for SamplerQNN: [[[-0.05844702 -0.10621091]\n",
            "  [ 0.38798796 -0.19544083]\n",
            "  [-0.34561132  0.09459601]\n",
            "  [ 0.01607038  0.20705573]]]. \n",
            "Shape: (1, 4, 2)\n",
            "Weights gradients for SamplerQNN: [[[ 0.00606238 -0.1124595  -0.06856156 -0.09809236]\n",
            "  [ 0.21167414 -0.09069775  0.06856156 -0.22549618]\n",
            "  [-0.48846674  0.32499215 -0.32262178  0.09809236]\n",
            "  [ 0.27073021 -0.12183491  0.32262178  0.22549618]]]. \n",
            "Shape: (1, 4, 4)\n"
          ]
        }
      ]
    },
    {
      "cell_type": "markdown",
      "source": [
        "Now lets test out Estimator with Multiple Observables for more complex QNN architectures"
      ],
      "metadata": {
        "id": "9m1PaeCme_4v"
      }
    },
    {
      "cell_type": "code",
      "source": [
        "obser2 = SparsePauliOp.from_list([(\"Z\" * q1.num_qubits, 1)])\n",
        "\n",
        "estimator_qnn2 = EstimatorQNN(\n",
        "    circuit=q1,\n",
        "    observables=[obser1, obser2],\n",
        "    input_params=[params1[0]],\n",
        "    weight_params=[params1[1]],\n",
        ")"
      ],
      "metadata": {
        "id": "vztfIaYPe-vA"
      },
      "execution_count": null,
      "outputs": []
    },
    {
      "cell_type": "code",
      "source": [
        "estimator_qnn_forward2 = estimator_qnn2.forward(estimator_qnn_input, estimator_qnn_weights)\n",
        "estimator_qnn_input_grad2, estimator_qnn_weight_grad2 = estimator_qnn2.backward(\n",
        "    estimator_qnn_input, estimator_qnn_weights\n",
        ")\n",
        "print(f\"Forward output for EstimatorQNN: {estimator_qnn_foward}. \\nShape: {estimator_qnn_foward.shape}\")\n",
        "print(f\"Forward output for EstimatorQNN2: {estimator_qnn_forward2}. \\nShape: {estimator_qnn_forward2.shape}\")\n",
        "print(f\"Backward output for EstimatorQNN: {estimator_qnn_weight_grad}. \\nShape: {estimator_qnn_weight_grad.shape}\")\n",
        "print(f\"Backward output for EstimatorQNN2: {estimator_qnn_weight_grad2}. \\nShape: {estimator_qnn_weight_grad2.shape}\")"
      ],
      "metadata": {
        "colab": {
          "base_uri": "https://localhost:8080/"
        },
        "id": "rHvCV9dKiLDE",
        "outputId": "b88e7078-ed9f-4aef-8126-39998bd58ab3"
      },
      "execution_count": null,
      "outputs": [
        {
          "output_type": "stream",
          "name": "stdout",
          "text": [
            "Forward output for EstimatorQNN: [[ 0.2970094  -0.63272767]]. \n",
            "Shape: (1, 2)\n",
            "Forward output for EstimatorQNN2: [[ 0.2970094  -0.63272767]]. \n",
            "Shape: (1, 2)\n",
            "Backward output for EstimatorQNN: [[[0.63272767]]]. \n",
            "Shape: (1, 1, 1)\n",
            "Backward output for EstimatorQNN2: [[[0.63272767]\n",
            "  [0.2970094 ]]]. \n",
            "Shape: (1, 2, 1)\n"
          ]
        }
      ]
    },
    {
      "cell_type": "markdown",
      "source": [
        "##SampleQNN with custom interpret\n",
        "\n",
        "\"Parity\" fuction is a function that allows Samplerqnn to perform binary classification (N/B - Using an iterpret function modifies the outputshape of the forward and backward pass).Now given parity interpret function  output_shape is fixed to 2 thus our expected forward and weight gradient shapes are (batch_size, 2) and (batch_size, 2, num_weights)"
      ],
      "metadata": {
        "id": "sBc5HSjHkTk7"
      }
    },
    {
      "cell_type": "code",
      "source": [
        "parity = lambda x: \"{:b}\" .format(x).count(\"1\") % 2\n",
        "out_shape = 2\n",
        "sampler_qnn2 = SamplerQNN(\n",
        "    circuit=q2,\n",
        "    input_params=inputs2,\n",
        "    weight_params=weights2,\n",
        "    interpret=parity,\n",
        "    output_shape=out_shape,\n",
        ")\n",
        "\n",
        "\n"
      ],
      "metadata": {
        "id": "fOtEPHzFtYkm"
      },
      "execution_count": 57,
      "outputs": []
    },
    {
      "cell_type": "code",
      "source": [
        "sampler_qnn_forward2 = sampler_qnn2.forward(sampler_qnn_input, sampler_qnn_weights)\n",
        "sampler_qnn_input_grad2, sampler_qnn_weight_grad2 = sampler_qnn2.backward(\n",
        "    sampler_qnn_input, sampler_qnn_weights\n",
        ")\n",
        "\n",
        "print(f\"Forward output for SamplerQNN1: {sampler_qnn_forward.shape}\")\n",
        "print(f\"Forward output for SamplerQNN2: {sampler_qnn_forward2.shape}\")\n",
        "print(f\"Backward output for SamplerQNN1: {sampler_qnn_weight_grad.shape}\")\n",
        "print(f\"Backward output for SamplerQNN2: {sampler_qnn_weight_grad2.shape}\")"
      ],
      "metadata": {
        "colab": {
          "base_uri": "https://localhost:8080/"
        },
        "id": "ZxqBvItxxWSw",
        "outputId": "a7d4547d-a91d-418c-a9c1-3f5ad7de1150"
      },
      "execution_count": 59,
      "outputs": [
        {
          "output_type": "stream",
          "name": "stdout",
          "text": [
            "Forward output for SamplerQNN1: (1, 4)\n",
            "Forward output for SamplerQNN2: (1, 2)\n",
            "Backward output for SamplerQNN1: (1, 4, 4)\n",
            "Backward output for SamplerQNN2: (1, 2, 4)\n"
          ]
        }
      ]
    }
  ]
}